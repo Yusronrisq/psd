{
 "cells": [
  {
   "cell_type": "markdown",
   "metadata": {},
   "source": [
    "# Klasifikasi kualitas air menggunakan metode Decision Tree"
   ]
  },
  {
   "cell_type": "code",
   "execution_count": 1,
   "metadata": {},
   "outputs": [],
   "source": [
    "#library yang digunakan\n",
    "import pandas as pd\n",
    "from sklearn.impute import KNNImputer\n",
    "from sklearn.preprocessing import MinMaxScaler\n",
    "from imblearn.over_sampling import SMOTE\n",
    "from sklearn.model_selection import train_test_split\n",
    "from sklearn.tree import DecisionTreeClassifier\n",
    "from sklearn.naive_bayes import GaussianNB\n",
    "from sklearn.metrics import accuracy_score, precision_score, recall_score, f1_score, confusion_matrix\n",
    "import matplotlib.pyplot as plt\n",
    "import seaborn as sns"
   ]
  },
  {
   "cell_type": "markdown",
   "metadata": {},
   "source": [
    "## dataset\n"
   ]
  },
  {
   "cell_type": "markdown",
   "metadata": {},
   "source": [
    "\n",
    "data diperloeh dari kaggle dengan nama [\"water quality\"](https://www.kaggle.com/datasets/adityakadiwal/water-potability)"
   ]
  },
  {
   "cell_type": "code",
   "execution_count": 2,
   "metadata": {},
   "outputs": [],
   "source": [
    "data = pd.read_csv(\"water_potabilitys.csv\")"
   ]
  },
  {
   "cell_type": "markdown",
   "metadata": {},
   "source": [
    "## pemahaman data"
   ]
  },
  {
   "cell_type": "markdown",
   "metadata": {},
   "source": [
    "dataset ini berjumlah 3276 data dan memiliki 9 fitur dengan 1 target yaitu potability, berikut adalah fitur-fitur yang terdapat di dalamnya:\n",
    "-\tph: kandungan pH air (0 hingga 14).\n",
    "-\tHardnes: Kapasitas air untuk mengendapkan sabun dalam mg/L.\n",
    "-\tSolid: Total padatan terlarut dalam ppm.\n",
    "-\tchloramine: Jumlah Kloramin dalam ppm.\n",
    "-\tSulfate: Jumlah Sulfat yang terlarut dalam mg/L.\n",
    "-\tConductivity: Konduktivitas listrik air dalam μS/cm.\n",
    "-\tOrganic_carbon: Jumlah karbon organik dalam ppm.\n",
    "-\tTrihalomethanes: Jumlah Trihalomethanes dalam μg/L.\n",
    "-\tTurbidity: Ukuran sifat air yang memancarkan cahaya di NTU.\n",
    "-\tPotability: Menunjukkan apakah air aman untuk dikonsumsi manusia. Dapat diminum -1 dan Tidak dapat diminum -0"
   ]
  },
  {
   "cell_type": "code",
   "execution_count": 3,
   "metadata": {},
   "outputs": [
    {
     "data": {
      "text/html": [
       "<div>\n",
       "<style scoped>\n",
       "    .dataframe tbody tr th:only-of-type {\n",
       "        vertical-align: middle;\n",
       "    }\n",
       "\n",
       "    .dataframe tbody tr th {\n",
       "        vertical-align: top;\n",
       "    }\n",
       "\n",
       "    .dataframe thead th {\n",
       "        text-align: right;\n",
       "    }\n",
       "</style>\n",
       "<table border=\"1\" class=\"dataframe\">\n",
       "  <thead>\n",
       "    <tr style=\"text-align: right;\">\n",
       "      <th></th>\n",
       "      <th>ph</th>\n",
       "      <th>Hardness</th>\n",
       "      <th>Solids</th>\n",
       "      <th>Chloramines</th>\n",
       "      <th>Sulfate</th>\n",
       "      <th>Conductivity</th>\n",
       "      <th>Organic_carbon</th>\n",
       "      <th>Trihalomethanes</th>\n",
       "      <th>Turbidity</th>\n",
       "      <th>Potability</th>\n",
       "    </tr>\n",
       "  </thead>\n",
       "  <tbody>\n",
       "    <tr>\n",
       "      <th>0</th>\n",
       "      <td>NaN</td>\n",
       "      <td>204.890455</td>\n",
       "      <td>20791.318981</td>\n",
       "      <td>7.300212</td>\n",
       "      <td>368.516441</td>\n",
       "      <td>564.308654</td>\n",
       "      <td>10.379783</td>\n",
       "      <td>86.990970</td>\n",
       "      <td>2.963135</td>\n",
       "      <td>0</td>\n",
       "    </tr>\n",
       "    <tr>\n",
       "      <th>1</th>\n",
       "      <td>3.716080</td>\n",
       "      <td>129.422921</td>\n",
       "      <td>18630.057858</td>\n",
       "      <td>6.635246</td>\n",
       "      <td>NaN</td>\n",
       "      <td>592.885359</td>\n",
       "      <td>15.180013</td>\n",
       "      <td>56.329076</td>\n",
       "      <td>4.500656</td>\n",
       "      <td>0</td>\n",
       "    </tr>\n",
       "    <tr>\n",
       "      <th>2</th>\n",
       "      <td>8.099124</td>\n",
       "      <td>224.236259</td>\n",
       "      <td>19909.541732</td>\n",
       "      <td>9.275884</td>\n",
       "      <td>NaN</td>\n",
       "      <td>418.606213</td>\n",
       "      <td>16.868637</td>\n",
       "      <td>66.420093</td>\n",
       "      <td>3.055934</td>\n",
       "      <td>0</td>\n",
       "    </tr>\n",
       "    <tr>\n",
       "      <th>3</th>\n",
       "      <td>8.316766</td>\n",
       "      <td>214.373394</td>\n",
       "      <td>22018.417441</td>\n",
       "      <td>8.059332</td>\n",
       "      <td>356.886136</td>\n",
       "      <td>363.266516</td>\n",
       "      <td>18.436524</td>\n",
       "      <td>100.341674</td>\n",
       "      <td>4.628771</td>\n",
       "      <td>0</td>\n",
       "    </tr>\n",
       "    <tr>\n",
       "      <th>4</th>\n",
       "      <td>9.092223</td>\n",
       "      <td>181.101509</td>\n",
       "      <td>17978.986339</td>\n",
       "      <td>6.546600</td>\n",
       "      <td>310.135738</td>\n",
       "      <td>398.410813</td>\n",
       "      <td>11.558279</td>\n",
       "      <td>31.997993</td>\n",
       "      <td>4.075075</td>\n",
       "      <td>0</td>\n",
       "    </tr>\n",
       "  </tbody>\n",
       "</table>\n",
       "</div>"
      ],
      "text/plain": [
       "         ph    Hardness        Solids  Chloramines     Sulfate  Conductivity  \\\n",
       "0       NaN  204.890455  20791.318981     7.300212  368.516441    564.308654   \n",
       "1  3.716080  129.422921  18630.057858     6.635246         NaN    592.885359   \n",
       "2  8.099124  224.236259  19909.541732     9.275884         NaN    418.606213   \n",
       "3  8.316766  214.373394  22018.417441     8.059332  356.886136    363.266516   \n",
       "4  9.092223  181.101509  17978.986339     6.546600  310.135738    398.410813   \n",
       "\n",
       "   Organic_carbon  Trihalomethanes  Turbidity  Potability  \n",
       "0       10.379783        86.990970   2.963135           0  \n",
       "1       15.180013        56.329076   4.500656           0  \n",
       "2       16.868637        66.420093   3.055934           0  \n",
       "3       18.436524       100.341674   4.628771           0  \n",
       "4       11.558279        31.997993   4.075075           0  "
      ]
     },
     "execution_count": 3,
     "metadata": {},
     "output_type": "execute_result"
    }
   ],
   "source": [
    "data.head()"
   ]
  },
  {
   "cell_type": "code",
   "execution_count": 4,
   "metadata": {},
   "outputs": [
    {
     "data": {
      "text/plain": [
       "Potability\n",
       "0    1998\n",
       "1    1278\n",
       "dtype: int64"
      ]
     },
     "execution_count": 4,
     "metadata": {},
     "output_type": "execute_result"
    }
   ],
   "source": [
    "data.groupby('Potability').size()"
   ]
  },
  {
   "cell_type": "code",
   "execution_count": 5,
   "metadata": {},
   "outputs": [
    {
     "data": {
      "text/plain": [
       "ph                 491\n",
       "Hardness             0\n",
       "Solids               0\n",
       "Chloramines          0\n",
       "Sulfate            781\n",
       "Conductivity         0\n",
       "Organic_carbon       0\n",
       "Trihalomethanes    162\n",
       "Turbidity            0\n",
       "Potability           0\n",
       "dtype: int64"
      ]
     },
     "execution_count": 5,
     "metadata": {},
     "output_type": "execute_result"
    }
   ],
   "source": [
    "data.isnull().sum()"
   ]
  },
  {
   "cell_type": "markdown",
   "metadata": {},
   "source": [
    "## Preprocessing data\n",
    "Proses preprocessing adalah proses untuk membuat dataset menjadi lebih baik, dataset akan dilakukan pembersihan atau pengimputan data dan pemrosesan lainnya seperti mencari outlier, keseimbangan data, normalisasi data dengan tujuan untuk membuat data semakin baik.\n",
    "pada penelitian ini akan dilakukan pengimputan data untuk missing dengan nilai rata-rata dan KNN yang nantinya akan dilakukan perbandingan lebih bagus mana antara data yang diimput dengan nilai rata-rata atau KNN, kemudian juga akan dilakukan normalisasi data dengan metode minmax kemudian akan dilakukan penyeimbangan data dengan metode SMOTE"
   ]
  },
  {
   "cell_type": "code",
   "execution_count": 6,
   "metadata": {},
   "outputs": [],
   "source": [
    "X = data.drop(columns=['Potability'])\n",
    "y = data['Potability']"
   ]
  },
  {
   "cell_type": "markdown",
   "metadata": {},
   "source": [
    "### Imputasi Missing value\n",
    "proses untuk menginput nilai yang kosong atau hilang, proses dapat dilakukan oleh beberapa metode,seperti pada penilitian ini teradpat 2 metode yang digunakna yaitu mengisi nilai kosong dengan nilai rata rata dan mengisi nilai kosong dengan metode knn.\n",
    "\n",
    "#### rata-rata\n",
    "nilai kosong akan diisin oleh nilai rata-rata pada fitur yang memiliki nilai kosong\n",
    "#### knn\n",
    "nilai kosong akan diisi dengan metode knn, dimana knn akan mencari tetangga terdekat, pada penelitian ini yang bagus yaitu menggunakan 10 tetangga terdekat(percobaan manual), kemudian tetangga terdekat tersebut akan di cari nilai rata-ratanya dan nilai kosong akna diisikan oleh nilai rata-rata dari tetangga tersebut.      \n",
    "rumus knn untuk imputasi:\n",
    "\n",
    "$\n",
    "X = \\frac{1}{K} \\sum_{k=1}^{K} X_{k}\n",
    "$"
   ]
  },
  {
   "cell_type": "code",
   "execution_count": 7,
   "metadata": {},
   "outputs": [],
   "source": [
    "Xrata = X.fillna(X.mean())\n",
    "imputer = KNNImputer(n_neighbors=10)\n",
    "Xknn = pd.DataFrame(imputer.fit_transform(X), columns=X.columns)"
   ]
  },
  {
   "cell_type": "markdown",
   "metadata": {},
   "source": [
    "### normalisasi data\n",
    "normalisasi data adalah proses membuat dataset yang awalnya memiliki rentang nilai jauh berbeda menjadi rentang nilai yang sama, metode yang digunakan di sini yaitu min-max scaler dimana data akan di ubah menjadi nilai dengan rentang 1-0."
   ]
  },
  {
   "cell_type": "code",
   "execution_count": 8,
   "metadata": {},
   "outputs": [],
   "source": [
    "scaler = MinMaxScaler(feature_range=(0, 1))\n",
    "Xrata= pd.DataFrame(scaler.fit_transform(Xrata), columns=X.columns)\n",
    "Xknn= pd.DataFrame(scaler.fit_transform(Xknn), columns=X.columns)"
   ]
  },
  {
   "cell_type": "markdown",
   "metadata": {},
   "source": [
    "#### penyeimbangan data\n",
    "penyeimbangan data adalah proses untuk membuat data menjadi seimbang, pada penelitian dataset yang digunakan memiliki kelas 0 sebanyak 0.61 dan kelas 1 sebanyak 0.39 maka dari itu diperlukan penanganan dalam ketidak seimbangan data, begitupun karena decision tree adalah metode yang sensitif terhadap data tidak seimbang.       \n",
    "langkah-langkah = \n",
    "- mencari tetangga terderat\n",
    "- membuat data sintesis dengan rumus $ x_{\\text{sintetik}} = x_i + \\lambda \\cdot (x_k - x_i) $\n"
   ]
  },
  {
   "cell_type": "code",
   "execution_count": 9,
   "metadata": {},
   "outputs": [],
   "source": [
    "smote = SMOTE(random_state=42)\n",
    "Xrata, yrata = smote.fit_resample(Xrata, y)\n",
    "Xknn, yknn = smote.fit_resample(Xknn, y)"
   ]
  },
  {
   "cell_type": "markdown",
   "metadata": {},
   "source": [
    "## Pemodelan\n",
    "Proses modelling dalam analisis data adalah langkah penting di mana Anda menggunakan berbagai teknik statistik atau algoritma machine learning untuk memahami, menganalisis,  memprediksi pola dalam data. Dikarenakan dalam Case Datasets Water Quality ini tujuannya untuk menentukan kategori dari pengelompokan terkena diabetes jadi tentunya kita menggunakan Metode Klasifikasi. Metode yang digunakan Disini yaitu menggunakan model decision tree dan naive baiyes sebagai pembanding"
   ]
  },
  {
   "cell_type": "markdown",
   "metadata": {},
   "source": [
    "### spliting data\n",
    "proses untuk membagi data menjadi data latih dan data tes, data latih akan dilatih dengan model untuk mendapatkan fungsi prediksi yang dimana nantinya fungsi akan digunakan oleh data tes, pada dataset ini akan dibagi menjadi 20:80, tes 20 dan latih 80."
   ]
  },
  {
   "cell_type": "code",
   "execution_count": 10,
   "metadata": {},
   "outputs": [],
   "source": [
    "X_train, X_test, y_train, y_test = train_test_split(Xknn, yknn, test_size=0.2, random_state=42)\n",
    "X_train, X_test, y_train, y_test = train_test_split(Xrata, yrata, test_size=0.2, random_state=42)"
   ]
  },
  {
   "cell_type": "code",
   "execution_count": 11,
   "metadata": {},
   "outputs": [
    {
     "data": {
      "image/png": "[encoded data removed]",
      "text/plain": [
       "<Figure size 400x300 with 2 Axes>"
      ]
     },
     "metadata": {},
     "output_type": "display_data"
    },
    {
     "name": "stdout",
     "output_type": "stream",
     "text": [
      "akurasi untuk data inputan knn dengan metode decison tree\n",
      "Akurasi model: 0.62\n",
      "Precision: 0.62\n",
      "Recall: 0.68\n",
      "F1 Score: 0.65\n"
     ]
    },
    {
     "data": {
      "image/png": "[encoded data removed]",
      "text/plain": [
       "<Figure size 400x300 with 2 Axes>"
      ]
     },
     "metadata": {},
     "output_type": "display_data"
    },
    {
     "name": "stdout",
     "output_type": "stream",
     "text": [
      "akurasi untuk data inputan rata-rata dengan metode decison tree\n",
      "Akurasi model: 0.65\n",
      "Precision: 0.65\n",
      "Recall: 0.67\n",
      "F1 Score: 0.66\n"
     ]
    },
    {
     "data": {
      "image/png": "[encoded data removed]",
      "text/plain": [
       "<Figure size 400x300 with 2 Axes>"
      ]
     },
     "metadata": {},
     "output_type": "display_data"
    },
    {
     "name": "stdout",
     "output_type": "stream",
     "text": [
      "akurasi untuk data inputan knn dengan metode naive baiyes\n",
      "Akurasi model: 0.56\n",
      "Precision: 0.58\n",
      "Recall: 0.48\n",
      "F1 Score: 0.52\n"
     ]
    },
    {
     "data": {
      "image/png": "[encoded data removed]",
      "text/plain": [
       "<Figure size 400x300 with 2 Axes>"
      ]
     },
     "metadata": {},
     "output_type": "display_data"
    },
    {
     "name": "stdout",
     "output_type": "stream",
     "text": [
      "akurasi untuk data inputan rata-rata dengan metode naive baiyes\n",
      "Akurasi model: 0.55\n",
      "Precision: 0.58\n",
      "Recall: 0.46\n",
      "F1 Score: 0.51\n"
     ]
    }
   ],
   "source": [
    "# data inputan knn dengan metode decison tree\n",
    "X_train, X_test, y_train, y_test = train_test_split(Xknn, yknn, test_size=0.2, random_state=42)\n",
    "model = DecisionTreeClassifier(random_state=42)\n",
    "model.fit(X_train, y_train)\n",
    "y_pred = model.predict(X_test)\n",
    "accuracy_1 = accuracy_score(y_test, y_pred)\n",
    "precision_1 = precision_score(y_test, y_pred)\n",
    "recall_1 = recall_score(y_test, y_pred)\n",
    "f1_1 = f1_score(y_test, y_pred)\n",
    "conf_matrix = confusion_matrix(y_test, y_pred)\n",
    "\n",
    "plt.figure(figsize=(4, 3))\n",
    "sns.heatmap(conf_matrix, annot=True, fmt='d', cmap='Blues', xticklabels=['Negatif', 'Positif'], yticklabels=['Negatif', 'Positif'])\n",
    "\n",
    "plt.xlabel('Prediksi')\n",
    "plt.ylabel('Aktual')\n",
    "plt.title('imputasi KNN metode decison tree')\n",
    "plt.show()\n",
    "print('akurasi untuk data inputan knn dengan metode decison tree')\n",
    "print(f'Akurasi model: {accuracy_1:.2f}')\n",
    "print(f'Precision: {precision_1:.2f}')\n",
    "print(f'Recall: {recall_1:.2f}')\n",
    "print(f'F1 Score: {f1_1:.2f}')\n",
    "\n",
    "# data inputan rata-rata dengan metode decison tree\n",
    "X_train, X_test, y_train, y_test = train_test_split(Xrata, yrata, test_size=0.2, random_state=42)\n",
    "model = DecisionTreeClassifier(random_state=42)\n",
    "model.fit(X_train, y_train)\n",
    "y_pred = model.predict(X_test)\n",
    "accuracy_2 = accuracy_score(y_test, y_pred)\n",
    "precision_2 = precision_score(y_test, y_pred)\n",
    "recall_2 = recall_score(y_test, y_pred)\n",
    "f1_2 = f1_score(y_test, y_pred)\n",
    "conf_matrix = confusion_matrix(y_test, y_pred)\n",
    "\n",
    "plt.figure(figsize=(4, 3))\n",
    "sns.heatmap(conf_matrix, annot=True, fmt='d', cmap='Blues', xticklabels=['Negatif', 'Positif'], yticklabels=['Negatif', 'Positif'])\n",
    "\n",
    "plt.xlabel('Prediksi')\n",
    "plt.ylabel('Aktual')\n",
    "plt.title('imputasi Rata-rata metode decison tree')\n",
    "plt.show()\n",
    "print('akurasi untuk data inputan rata-rata dengan metode decison tree')\n",
    "print(f'Akurasi model: {accuracy_2:.2f}')\n",
    "print(f'Precision: {precision_2:.2f}')\n",
    "print(f'Recall: {recall_2:.2f}')\n",
    "print(f'F1 Score: {f1_2:.2f}')\n",
    "\n",
    "# data inputan knn dengan metode naive baiyes\n",
    "X_train, X_test, y_train, y_test = train_test_split(Xknn, yknn, test_size=0.2, random_state=42)\n",
    "model = GaussianNB()\n",
    "model.fit(X_train, y_train)\n",
    "y_pred = model.predict(X_test)\n",
    "accuracy_3 = accuracy_score(y_test, y_pred)\n",
    "precision_3 = precision_score(y_test, y_pred)\n",
    "recall_3 = recall_score(y_test, y_pred)\n",
    "f1_3 = f1_score(y_test, y_pred)\n",
    "conf_matrix = confusion_matrix(y_test, y_pred)\n",
    "\n",
    "plt.figure(figsize=(4, 3))\n",
    "sns.heatmap(conf_matrix, annot=True, fmt='d', cmap='Blues', xticklabels=['Negatif', 'Positif'], yticklabels=['Negatif', 'Positif'])\n",
    "\n",
    "plt.xlabel('Prediksi')\n",
    "plt.ylabel('Aktual')\n",
    "plt.title('imputasi KNN naive baiyes')\n",
    "plt.show()\n",
    "print('akurasi untuk data inputan knn dengan metode naive baiyes')\n",
    "print(f'Akurasi model: {accuracy_3:.2f}')\n",
    "print(f'Precision: {precision_3:.2f}')\n",
    "print(f'Recall: {recall_3:.2f}')\n",
    "print(f'F1 Score: {f1_3:.2f}')\n",
    "\n",
    "# data inputan rata-rata dengan metode naive baiyes\n",
    "X_train, X_test, y_train, y_test = train_test_split(Xrata, yrata, test_size=0.2, random_state=42)\n",
    "model = GaussianNB()\n",
    "model.fit(X_train, y_train)\n",
    "y_pred = model.predict(X_test)\n",
    "accuracy_4 = accuracy_score(y_test, y_pred)\n",
    "precision_4 = precision_score(y_test, y_pred)\n",
    "recall_4 = recall_score(y_test, y_pred)\n",
    "f1_4 = f1_score(y_test, y_pred)\n",
    "conf_matrix = confusion_matrix(y_test, y_pred)\n",
    "plt.figure(figsize=(4, 3))\n",
    "sns.heatmap(conf_matrix, annot=True, fmt='d', cmap='Blues', xticklabels=['Negatif', 'Positif'], yticklabels=['Negatif', 'Positif'])\n",
    "\n",
    "plt.xlabel('Prediksi')\n",
    "plt.ylabel('Aktual')\n",
    "plt.title('imputasi Rata-rata metode naive baiyes')\n",
    "plt.show()\n",
    "print('akurasi untuk data inputan rata-rata dengan metode naive baiyes')\n",
    "print(f'Akurasi model: {accuracy_4:.2f}')\n",
    "print(f'Precision: {precision_4:.2f}')\n",
    "print(f'Recall: {recall_4:.2f}')\n",
    "print(f'F1 Score: {f1_4:.2f}')\n"
   ]
  },
  {
   "cell_type": "code",
   "execution_count": 12,
   "metadata": {},
   "outputs": [
    {
     "data": {
      "text/html": [
       "<div>\n",
       "<style scoped>\n",
       "    .dataframe tbody tr th:only-of-type {\n",
       "        vertical-align: middle;\n",
       "    }\n",
       "\n",
       "    .dataframe tbody tr th {\n",
       "        vertical-align: top;\n",
       "    }\n",
       "\n",
       "    .dataframe thead th {\n",
       "        text-align: right;\n",
       "    }\n",
       "</style>\n",
       "<table border=\"1\" class=\"dataframe\">\n",
       "  <thead>\n",
       "    <tr style=\"text-align: right;\">\n",
       "      <th></th>\n",
       "      <th>Model</th>\n",
       "      <th>Akurasi</th>\n",
       "      <th>Precision</th>\n",
       "      <th>Recall</th>\n",
       "      <th>F1 Score</th>\n",
       "    </tr>\n",
       "  </thead>\n",
       "  <tbody>\n",
       "    <tr>\n",
       "      <th>0</th>\n",
       "      <td>Decision Tree dengan Imputasi KNN</td>\n",
       "      <td>0.62</td>\n",
       "      <td>0.62</td>\n",
       "      <td>0.68</td>\n",
       "      <td>0.65</td>\n",
       "    </tr>\n",
       "    <tr>\n",
       "      <th>1</th>\n",
       "      <td>Decision Tree dengan Imputasi Nilai Rata-rata</td>\n",
       "      <td>0.65</td>\n",
       "      <td>0.65</td>\n",
       "      <td>0.67</td>\n",
       "      <td>0.66</td>\n",
       "    </tr>\n",
       "    <tr>\n",
       "      <th>2</th>\n",
       "      <td>Naive Bayes dengan Imputasi KNN</td>\n",
       "      <td>0.56</td>\n",
       "      <td>0.58</td>\n",
       "      <td>0.48</td>\n",
       "      <td>0.52</td>\n",
       "    </tr>\n",
       "    <tr>\n",
       "      <th>3</th>\n",
       "      <td>Naive Bayes dengan Imputasi Nilai Rata-rata</td>\n",
       "      <td>0.55</td>\n",
       "      <td>0.58</td>\n",
       "      <td>0.46</td>\n",
       "      <td>0.51</td>\n",
       "    </tr>\n",
       "  </tbody>\n",
       "</table>\n",
       "</div>"
      ],
      "text/plain": [
       "                                           Model  Akurasi  Precision  Recall  \\\n",
       "0              Decision Tree dengan Imputasi KNN     0.62       0.62    0.68   \n",
       "1  Decision Tree dengan Imputasi Nilai Rata-rata     0.65       0.65    0.67   \n",
       "2                Naive Bayes dengan Imputasi KNN     0.56       0.58    0.48   \n",
       "3    Naive Bayes dengan Imputasi Nilai Rata-rata     0.55       0.58    0.46   \n",
       "\n",
       "   F1 Score  \n",
       "0      0.65  \n",
       "1      0.66  \n",
       "2      0.52  \n",
       "3      0.51  "
      ]
     },
     "execution_count": 12,
     "metadata": {},
     "output_type": "execute_result"
    }
   ],
   "source": [
    "import pandas as pd\n",
    "\n",
    "# Hasil evaluasi model untuk masing-masing dataset dan algoritma\n",
    "accuracy_knn_decision_tree = round(accuracy_1,2)\n",
    "precision_knn_decision_tree = round(precision_1,2)\n",
    "recall_knn_decision_tree = round(recall_1,2)\n",
    "f1_knn_decision_tree = round(f1_1,2)\n",
    "\n",
    "accuracy_rata_decision_tree = round(accuracy_2,2)\n",
    "precision_rata_decision_tree = round(precision_2,2)\n",
    "recall_rata_decision_tree = round(recall_2,2)\n",
    "f1_rata_decision_tree = round(f1_2,2)\n",
    "\n",
    "accuracy_knn_naive_bayes = round(accuracy_3,2)\n",
    "precision_knn_naive_bayes = round(precision_3,2)\n",
    "recall_knn_naive_bayes = round(recall_3,2)\n",
    "f1_knn_naive_bayes = round(f1_3,2)\n",
    "\n",
    "accuracy_rata_naive_bayes = round(accuracy_4,2)\n",
    "precision_rata_naive_bayes = round(precision_4,2)\n",
    "recall_rata_naive_bayes = round(recall_4,2)\n",
    "f1_rata_naive_bayes = round(f1_4,2)\n",
    "\n",
    "# Data hasil evaluasi untuk masing-masing model\n",
    "data = {\n",
    "    'Model': [\n",
    "        'Decision Tree dengan Imputasi KNN',\n",
    "        'Decision Tree dengan Imputasi Nilai Rata-rata',\n",
    "        'Naive Bayes dengan Imputasi KNN',\n",
    "        'Naive Bayes dengan Imputasi Nilai Rata-rata'\n",
    "    ],\n",
    "    'Akurasi': [\n",
    "        accuracy_knn_decision_tree,\n",
    "        accuracy_rata_decision_tree,\n",
    "        accuracy_knn_naive_bayes,\n",
    "        accuracy_rata_naive_bayes\n",
    "    ],\n",
    "    'Precision': [\n",
    "        precision_knn_decision_tree,\n",
    "        precision_rata_decision_tree,\n",
    "        precision_knn_naive_bayes,\n",
    "        precision_rata_naive_bayes\n",
    "    ],\n",
    "    'Recall': [\n",
    "        recall_knn_decision_tree,\n",
    "        recall_rata_decision_tree,\n",
    "        recall_knn_naive_bayes,\n",
    "        recall_rata_naive_bayes\n",
    "    ],\n",
    "    'F1 Score': [\n",
    "        f1_knn_decision_tree,\n",
    "        f1_rata_decision_tree,\n",
    "        f1_knn_naive_bayes,\n",
    "        f1_rata_naive_bayes\n",
    "    ]\n",
    "}\n",
    "\n",
    "# Membuat DataFrame\n",
    "perbandingan = pd.DataFrame(data)\n",
    "perbandingan.head()\n"
   ]
  }
 ],
 "metadata": {
  "kernelspec": {
   "display_name": "Python 3",
   "language": "python",
   "name": "python3"
  },
  "language_info": {
   "codemirror_mode": {
    "name": "ipython",
    "version": 3
   },
   "file_extension": ".py",
   "mimetype": "text/x-python",
   "name": "python",
   "nbconvert_exporter": "python",
   "pygments_lexer": "ipython3",
   "version": "3.13.0"
  }
 },
 "nbformat": 4,
 "nbformat_minor": 2
}
